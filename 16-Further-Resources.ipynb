{
 "cells": [
  {
   "cell_type": "markdown",
   "metadata": {},
   "source": [
    "# Resources for Further Learning\n",
    "\n",
    "# 后续学习资源"
   ]
  },
  {
   "cell_type": "markdown",
   "metadata": {},
   "source": [
    "> This concludes our whirlwind tour of the Python language.\n",
    "My hope is that if you read this far, you have an idea of the essential syntax, semantics, operations, and functionality offered by the Python language, as well as some idea of the range of tools and code constructs that you can explore further.\n",
    "\n",
    "本章总结我们的这次旋风之旅。作者希望如果你读到这里了，你应该已经对于Python提供的基本语法、语义、操作和功能有了基本的了解和认识，同样你也知道了很多的工具和代码结构能帮助你在这条路上走的更远。\n",
    "\n",
    "> I have tried to cover the pieces and patterns in the Python language that will be most useful to a data scientist using Python, but this has by no means been a complete introduction.\n",
    "If you'd like to go deeper in understanding the Python language itself and how to use it effectively, here are a handful of resources I'd recommend:\n",
    "\n",
    "> - [*Fluent Python*](http://shop.oreilly.com/product/0636920032519.do) by Luciano Ramalho. This is an excellent OReilly book that explores best practices and idioms for Python, including getting the most out of the standard library.\n",
    "> - [*Dive Into Python*](http://www.diveintopython.net/) by Mark Pilgrim. This is a free online book that provides a ground-up introduction to the Python language.\n",
    "> - [*Learn Python the Hard Way*](http://learnpythonthehardway.org/) by Zed Shaw. This book follows a \"learn by trying\" approach, and deliberately emphasizes developing what may be the most useful skill a programmer can learn: Googling things you don't understand.\n",
    "> - [*Python Essential Reference*](http://www.dabeaz.com/per.html) by David Beazley. This 700-page monster is well-written, and covers virtually everything there is to know about the Python language and its built-in libraries. For a more application-focused Python walk-through, see Beazley's [*Python Cookbook*](http://shop.oreilly.com/product/0636920027072.do).\n",
    "\n",
    "作者尽量将在数据科学中需要用到的Python知识和技能在整个旅行中都介绍了，但是这不代表着这里覆盖了完整的知识。如果读者希望了解更多更深入的Python语言本身的知识，以及希望学会如果高效的使用这门语言，下面列表列出了作者推荐的一些学习资源：\n",
    "\n",
    "- [*Fluent Python*](http://shop.oreilly.com/product/0636920032519.do) 作者 Luciano Ramalho. 这是一本有关Python最佳时间和约定俗成好书，书里还介绍了很多标准库的内容。\n",
    "- [*Dive Into Python*](http://www.diveintopython.net/) 作者 Mark Pilgrim. 这是一本在线免费书籍，提供了Python零基础的知识介绍。\n",
    "- [*Learn Python the Hard Way*](http://learnpythonthehardway.org/) 作者 Zed Shaw. 这本书遵循\"在编码中学习\"的原则，通过尝试解决问题学习Python，遇到不明白的请谷歌。\n",
    "- [*Python Essential Reference*](http://www.dabeaz.com/per.html) 作者 David Beazley. 这本700多页的怪物涵盖了Python语言和标准库几乎所有的内容. 如果你需要更加偏应用型的书籍，可以看Beazley写的 [*Python Cookbook*](http://shop.oreilly.com/product/0636920027072.do)。\n",
    "\n",
    "> To dig more into Python tools for data science and scientific computing, I recommend the following books:\n",
    "\n",
    "> - [*The Python Data Science Handbook*](http://shop.oreilly.com/product/0636920034919.do) by yours truly. This book starts precisely where this report leaves off, and provides a comprehensive guide to the essential tools in Python's data science stack, from data munging and manipulation to machine learning.\n",
    "> - [*Effective Computation in Physics*](http://shop.oreilly.com/product/0636920033424.do) by Katie Huff and Anthony Scopatz, is applicable to people far beyond the world of Physics research. It is a step-by-step, ground-up introduction to scientific computing, including an excellent introduction to many of the tools mentioned in this report.\n",
    "> - [*Python for Data Analysis*](http://shop.oreilly.com/product/0636920023784.do) by Wes McKinney, creator of the Pandas package. This book covers the Pandas library in detail, as well as giving useful information on some of the other tools that enable it.\n",
    "\n",
    "想要深入学习数据科学和科学计算方面的工具，作者推荐下面这些资源：\n",
    "\n",
    "- [*The Python Data Science Handbook*](http://shop.oreilly.com/product/0636920034919.do) 作者本人著。\n",
    "- [*Effective Computation in Physics*](http://shop.oreilly.com/product/0636920033424.do) 作者 Katie Huff 和 Anthony Scopatz，对于物理研究人员和科学计算人员推荐\n",
    "- [*Python for Data Analysis*](http://shop.oreilly.com/product/0636920023784.do) 作者 Wes McKinney，作者是Pandas的创始人，本书详细介绍了Pandas的方方面面，以及Pandas依赖的其他工具。\n",
    "\n",
    "> Finally, for an even broader look at what's out there, I recommend the following:\n",
    "\n",
    "最后，对于还需要更多资源的读者，作者建议到Oreilly的Python专区去转转，还有就是PyCon，SciPy，PyData这些年度的学术会议。如果不能去现场，网上也有很多的免费视频可以找得到。（下面这段就不翻译了）\n",
    "\n",
    "> - [*OReilly Python Resources*](http://shop.oreilly.com/category/browse-subjects/programming/python.) O'Reilly features a number of excellent books on Python itself and specialized topics in the Python world.\n",
    "> - *PyCon*, *SciPy*, and *PyData*. The PyCon, SciPy, and PyData conferences draw thousands of attendees each year, and archive the bulk of their programs each year as free online videos. These have turned into an incredible set of resources for learning about Python itself, Python packages, and related topics. Search online for videos of both talks and tutorials: the former tend to be shorter, covering new packages or fresh looks at old ones. The tutorials tend to be several hours, covering the use of the tools mentioned here as well as others."
   ]
  },
  {
   "cell_type": "code",
   "execution_count": null,
   "metadata": {},
   "outputs": [],
   "source": []
  }
 ],
 "metadata": {
  "anaconda-cloud": {},
  "kernelspec": {
   "display_name": "Python 3",
   "language": "python",
   "name": "python3"
  },
  "language_info": {
   "codemirror_mode": {
    "name": "ipython",
    "version": 3
   },
   "file_extension": ".py",
   "mimetype": "text/x-python",
   "name": "python",
   "nbconvert_exporter": "python",
   "pygments_lexer": "ipython3",
   "version": "3.7.3"
  }
 },
 "nbformat": 4,
 "nbformat_minor": 1
}
