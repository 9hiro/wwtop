{
 "cells": [
  {
   "cell_type": "markdown",
   "metadata": {},
   "source": [
    "# Modules and Packages\n",
    "\n",
    "# 模块和包"
   ]
  },
  {
   "cell_type": "markdown",
   "metadata": {},
   "source": [
    "One feature of Python that makes it useful for a wide range of tasks is the fact that it comes \"batteries included\" – that is, the Python standard library contains useful tools for a wide range of tasks.\n",
    "On top of this, there is a broad ecosystem of third-party tools and packages that offer more specialized functionality.\n",
    "Here we'll take a look at importing standard library modules, tools for installing third-party modules, and a description of how you can make your own modules.\n",
    "\n",
    "Python能够胜任大范围的任务的一大原因是它”自带电池“ - 也就是说，Python的标准库包含着很多有用的工具，能够适用与多种范围任务场合。在这之上，Python还有一个很广泛的生态，很多第三方的工具和包提供着许多特殊的功能。本章我们来讨论一下引入标准库，安装第三方模块的工具和如何创建你自己的模块。"
   ]
  },
  {
   "cell_type": "markdown",
   "metadata": {},
   "source": [
    "## Loading Modules: the ``import`` Statement\n",
    "\n",
    "## 载入模块：`import` 语句\n",
    "\n",
    "For loading built-in and third-party modules, Python provides the ``import`` statement.\n",
    "There are a few ways to use the statement, which we will mention briefly here, from most recommended to least recommended.\n",
    "\n",
    "要载入标准库或第三方的模块，Python提供了`import`语句。使用`import`有多种方法，我们会在这里简要介绍，从最推荐的方式到最不推荐的方式。"
   ]
  },
  {
   "cell_type": "markdown",
   "metadata": {},
   "source": [
    "### Explicit module import\n",
    "\n",
    "### 明确的模块 import\n",
    "\n",
    "Explicit import of a module preserves the module's content in a namespace.\n",
    "The namespace is then used to refer to its contents with a \"``.``\" between them.\n",
    "For example, here we'll import the built-in ``math`` module and compute the cosine of pi:\n",
    "\n",
    "明确的模块载入会将模块的内容保留在模块的命名空间中。我们可以使用`.`符号在模块命名空间与模块内容之间进行引用。例如，下面我们会载入标准库的`math`模块然后计算pi的余弦值："
   ]
  },
  {
   "cell_type": "code",
   "execution_count": 1,
   "metadata": {},
   "outputs": [
    {
     "data": {
      "text/plain": [
       "-1.0"
      ]
     },
     "execution_count": 1,
     "metadata": {},
     "output_type": "execute_result"
    }
   ],
   "source": [
    "import math\n",
    "math.cos(math.pi)"
   ]
  },
  {
   "cell_type": "markdown",
   "metadata": {},
   "source": [
    "### Explicit module import by alias\n",
    "\n",
    "### 明确的载入模块并使用别名\n",
    "\n",
    "For longer module names, it's not convenient to use the full module name each time you access some element.\n",
    "For this reason, we'll commonly use the \"``import ... as ...``\" pattern to create a shorter alias for the namespace.\n",
    "For example, the NumPy (Numerical Python) package, a popular third-party package useful for data science, is by convention imported under the alias ``np``:\n",
    "\n",
    "对于模块名称较长的情况，每次使用全名不是特别方便，因此，我们可以使用`import ... as ...`语法导入模块并给模块起一个短的别名。例如，NumPy（Numerical Python）包是一个数据科学领域特别受欢迎的包，我们惯例会载入它并起一个别名`np`："
   ]
  },
  {
   "cell_type": "code",
   "execution_count": 2,
   "metadata": {},
   "outputs": [
    {
     "data": {
      "text/plain": [
       "-1.0"
      ]
     },
     "execution_count": 2,
     "metadata": {},
     "output_type": "execute_result"
    }
   ],
   "source": [
    "import numpy as np\n",
    "np.cos(np.pi)"
   ]
  },
  {
   "cell_type": "markdown",
   "metadata": {},
   "source": [
    "### Explicit import of module contents\n",
    "\n",
    "### 明确的载入模块的内容\n",
    "\n",
    "Sometimes rather than importing the module namespace, you would just like to import a few particular items from the module.\n",
    "This can be done with the \"``from ... import ...``\" pattern.\n",
    "For example, we can import just the ``cos`` function and the ``pi`` constant from the ``math`` module:\n",
    "\n",
    "有时我们希望载入模块当中一些特定的内容，而不是载入模块的命名空间。使用`from ... import ...`可以满足这个要求。例如，我们可以从`math`模块中载入`cos`函数和`pi`常量："
   ]
  },
  {
   "cell_type": "code",
   "execution_count": 3,
   "metadata": {},
   "outputs": [
    {
     "data": {
      "text/plain": [
       "-1.0"
      ]
     },
     "execution_count": 3,
     "metadata": {},
     "output_type": "execute_result"
    }
   ],
   "source": [
    "from math import cos, pi\n",
    "cos(pi)"
   ]
  },
  {
   "cell_type": "markdown",
   "metadata": {},
   "source": [
    "### Implicit import of module contents\n",
    "\n",
    "### 隐性的载入模块的内容\n",
    "\n",
    "Finally, it is sometimes useful to import the entirety of the module contents into the local namespace.\n",
    "This can be done with the \"``from ... import *``\" pattern:\n",
    "\n",
    "最后，我们有时需要将整个模块的内容载入到本地命名空间。使用`from ... import *`可以做到这一点："
   ]
  },
  {
   "cell_type": "code",
   "execution_count": 4,
   "metadata": {},
   "outputs": [
    {
     "data": {
      "text/plain": [
       "1.0"
      ]
     },
     "execution_count": 4,
     "metadata": {},
     "output_type": "execute_result"
    }
   ],
   "source": [
    "from math import *\n",
    "sin(pi) ** 2 + cos(pi) ** 2"
   ]
  },
  {
   "cell_type": "markdown",
   "metadata": {},
   "source": [
    "This pattern should be used sparingly, if at all.\n",
    "The problem is that such imports can sometimes overwrite function names that you do not intend to overwrite, and the implicitness of the statement makes it difficult to determine what has changed.\n",
    "\n",
    "这种方法应该谨慎使用。因为这种载入方式可能会意外地覆盖了本地命名空间的同名内容，而且这样隐性的载入方式也会导致查错很困难。\n",
    "\n",
    "For example, Python has a built-in ``sum`` function that can be used for various operations:\n",
    "\n",
    "例如，Python有一个内建函数`sum`可以用于计算一个迭代的求和："
   ]
  },
  {
   "cell_type": "code",
   "execution_count": 5,
   "metadata": {},
   "outputs": [
    {
     "name": "stdout",
     "output_type": "stream",
     "text": [
      "Help on built-in function sum in module builtins:\n",
      "\n",
      "sum(iterable, start=0, /)\n",
      "    Return the sum of a 'start' value (default: 0) plus an iterable of numbers\n",
      "    \n",
      "    When the iterable is empty, return the start value.\n",
      "    This function is intended specifically for use with numeric values and may\n",
      "    reject non-numeric types.\n",
      "\n"
     ]
    }
   ],
   "source": [
    "help(sum)"
   ]
  },
  {
   "cell_type": "markdown",
   "metadata": {},
   "source": [
    "We can use this to compute the sum of a sequence, starting with a certain value (here, we'll start with ``-1``):\n",
    "\n",
    "我们可以用`sum`来计算一个序列的和，还可以指定一个开始值（这里我们使用-1作为开始值）："
   ]
  },
  {
   "cell_type": "code",
   "execution_count": 6,
   "metadata": {},
   "outputs": [
    {
     "data": {
      "text/plain": [
       "9"
      ]
     },
     "execution_count": 6,
     "metadata": {},
     "output_type": "execute_result"
    }
   ],
   "source": [
    "sum(range(5), -1)"
   ]
  },
  {
   "cell_type": "markdown",
   "metadata": {},
   "source": [
    "Now observe what happens if we make the *exact same function call* after importing ``*`` from ``numpy``:\n",
    "\n",
    "现在我们试一下将`numpy`的所有内容载入到本地命名空间："
   ]
  },
  {
   "cell_type": "code",
   "execution_count": 7,
   "metadata": {},
   "outputs": [],
   "source": [
    "from numpy import *"
   ]
  },
  {
   "cell_type": "code",
   "execution_count": 8,
   "metadata": {},
   "outputs": [
    {
     "data": {
      "text/plain": [
       "10"
      ]
     },
     "execution_count": 8,
     "metadata": {},
     "output_type": "execute_result"
    }
   ],
   "source": [
    "sum(range(5), -1)"
   ]
  },
  {
   "cell_type": "markdown",
   "metadata": {},
   "source": [
    "The result is off by one!\n",
    "The reason for this is that the ``import *`` statement *replaces* the built-in ``sum`` function with the ``numpy.sum`` function, which has a different call signature: in the former, we're summing ``range(5)`` starting at ``-1``; in the latter, we're summing ``range(5)`` along the last axis (indicated by ``-1``).\n",
    "This is the type of situation that may arise if care is not taken when using \"``import *``\" – for this reason, it is best to avoid this unless you know exactly what you are doing.\n",
    "\n",
    "结果出问题了！原因就是我们使用`import *`将`numpy`的所有内容载入后，內建的`sum`函数被`numpy.sum`函数覆盖了。这两个函数有着不通的签名，內建的`sum`函数的第二个参数表示开始值，而`numpy.sum`的第二个参数表示的是维度，这里的`-1`代表着最后一个维度求和。所以结果错误了。这个例子表明，我们需要谨慎的使用隐性载入方法。除非你很明确知道你在干什么，否则最好避免使用它。"
   ]
  },
  {
   "cell_type": "markdown",
   "metadata": {},
   "source": [
    "## Importing from Python's Standard Library\n",
    "\n",
    "## 载入Python标准库\n",
    "\n",
    "Python's standard library contains many useful built-in modules, which you can read about fully in [Python's documentation](https://docs.python.org/3/library/).\n",
    "Any of these can be imported with the ``import`` statement, and then explored using the help function seen in the previous section.\n",
    "Here is an extremely incomplete list of some of the modules you might wish to explore and learn about:\n",
    "\n",
    "- ``os`` and ``sys``: Tools for interfacing with the operating system, including navigating file directory structures and executing shell commands\n",
    "- ``math`` and ``cmath``: Mathematical functions and operations on real and complex numbers\n",
    "- ``itertools``: Tools for constructing and interacting with iterators and generators\n",
    "- ``functools``: Tools that assist with functional programming\n",
    "- ``random``: Tools for generating pseudorandom numbers\n",
    "- ``pickle``: Tools for object persistence: saving objects to and loading objects from disk\n",
    "- ``json`` and ``csv``: Tools for reading JSON-formatted and CSV-formatted files.\n",
    "- ``urllib``: Tools for doing HTTP and other web requests.\n",
    "\n",
    "Python的标准库包含着许多有用的內建模块，你可以在[Python库文档](https://docs.python.org/3/library/)中看到完整的说明。所有的这些模块都可以使用`import`直接载入，然后你可以使用`help`函数查看他们的说明。下面是一个不完全的模块的整理，你可以需要深入的研究和学习：\n",
    "\n",
    "- ``os`` 和 ``sys``: 与操作系统相关的工具，包括文件目录结构和执行shell命令\n",
    "- ``math`` 和 ``cmath``: 数学相关的工具库\n",
    "- ``itertools``: 与迭代器和生成器相关的工具库\n",
    "- ``functools``: 与函数式编程相关的工具库\n",
    "- ``random``: 伪随机数相关的工具库\n",
    "- ``pickle``: 对象持久化工具库，保存对象到磁盘，从磁盘读取对象\n",
    "- ``json`` and ``csv``: 处理json格式和csv格式的工具库\n",
    "- ``urllib``: 处理http和web请求的工具库\n",
    "\n",
    "\n",
    "You can find information on these, and many more, in the Python standard library documentation: https://docs.python.org/3/library/.\n",
    "\n",
    "你可以在Python标准库文档中找到更多的信息。https://docs.python.org/3/library/"
   ]
  },
  {
   "cell_type": "markdown",
   "metadata": {},
   "source": [
    "## Importing from Third-Party Modules\n",
    "\n",
    "## 载入第三方模块\n",
    "\n",
    "One of the things that makes Python useful, especially within the world of data science, is its ecosystem of third-party modules.\n",
    "These can be imported just as the built-in modules, but first the modules must be installed on your system.\n",
    "The standard registry for such modules is the Python Package Index (*PyPI* for short), found on the Web at http://pypi.python.org/.\n",
    "For convenience, Python comes with a program called ``pip`` (a recursive acronym meaning \"pip installs packages\"), which will automatically fetch packages released and listed on PyPI (if you use Python version 2, ``pip`` must be installed separately).\n",
    "For example, if you'd like to install the ``supersmoother`` package that I wrote, all that is required is to type the following at the command line:\n",
    "```\n",
    "$ pip install supersmoother\n",
    "```\n",
    "The source code for the package will be automatically downloaded from the PyPI repository, and the package installed in the standard Python path (assuming you have permission to do so on the computer you're using).\n",
    "\n",
    "Python受欢迎尤其是在数据科学领域占统治地位的最主要原因在于它有着强大的第三方库生态。第三方模块就像标准库一样，可以被载入，但在载入之前需要将第三方模块安装到你的系统上。Python的Package Index（简称PyPI）就维护着这些第三方库，你可以在 http://pypi.python.org/ 站点上找到它。为了方便，Python有一个模块和包的管理程序，叫做`pip`，它能自动地从PyPI上拉取发行的第三方库和包。（如果你在使用python2，pip需要单独安装）。例如，如果你希望安装作者写的`supersmoother`包，你只需要输入如下命令即可：\n",
    "```shell\n",
    "$ pip install supersmoother\n",
    "```\n",
    "运行时，这个包的源代码将会自动从PyPI仓库下载到本地，而且被安装到Python的路径中（当然前提是你有权限这样做）。\n",
    "\n",
    "For more information about PyPI and the ``pip`` installer, refer to the documentation at http://pypi.python.org/.\n",
    "\n",
    "想获得更多关于PyPI和`pip`程序的信息，请访问http://pypi.python.org/ 。"
   ]
  }
 ],
 "metadata": {
  "anaconda-cloud": {},
  "kernelspec": {
   "display_name": "Python 3",
   "language": "python",
   "name": "python3"
  },
  "language_info": {
   "codemirror_mode": {
    "name": "ipython",
    "version": 3
   },
   "file_extension": ".py",
   "mimetype": "text/x-python",
   "name": "python",
   "nbconvert_exporter": "python",
   "pygments_lexer": "ipython3",
   "version": "3.7.3"
  }
 },
 "nbformat": 4,
 "nbformat_minor": 1
}
