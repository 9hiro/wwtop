{
 "cells": [
  {
   "cell_type": "markdown",
   "metadata": {},
   "source": [
    "# Defining and Using Functions\n",
    "\n",
    "# 定义和使用函数"
   ]
  },
  {
   "cell_type": "markdown",
   "metadata": {},
   "source": [
    "So far, our scripts have been simple, single-use code blocks.\n",
    "One way to organize our Python code and to make it more readable and reusable is to factor-out useful pieces into reusable *functions*.\n",
    "Here we'll cover two ways of creating functions: the ``def`` statement, useful for any type of function, and the ``lambda`` statement, useful for creating short anonymous functions.\n",
    "\n",
    "到目前为止，我们的脚本都是简单的，单次使用的代码块。将Python代码写成*函数*能提升程序代码的可读性和可重用性。本章中我们会介绍两种定义函数的方式：使用`def`关键字定义标准函数和使用`lambda`关键字定义简短的匿名函数。"
   ]
  },
  {
   "cell_type": "markdown",
   "metadata": {},
   "source": [
    "## Using Functions\n",
    "\n",
    "## 使用函数\n",
    "\n",
    "Functions are groups of code that have a name, and can be called using parentheses.\n",
    "We've seen functions before. For example, ``print`` in Python 3 is a function:\n",
    "\n",
    "函数是命名了的一组代码，我们使用函数的名称和一对小括号调用它。在这之前，我们已经认识了函数。例如，`print`在Python3中就是一个函数："
   ]
  },
  {
   "cell_type": "code",
   "execution_count": 1,
   "metadata": {},
   "outputs": [
    {
     "name": "stdout",
     "output_type": "stream",
     "text": [
      "abc\n"
     ]
    }
   ],
   "source": [
    "print('abc')"
   ]
  },
  {
   "cell_type": "markdown",
   "metadata": {},
   "source": [
    "Here ``print`` is the function name, and ``'abc'`` is the function's *argument*.\n",
    "\n",
    "在上面的例子中，`print`是函数的名称，而`'abc'`是函数的*参数*。\n",
    "\n",
    "In addition to arguments, there are *keyword arguments* that are specified by name.\n",
    "One available keyword argument for the ``print()`` function (in Python 3) is ``sep``, which tells what character or characters should be used to separate multiple items:\n",
    "\n",
    "除了上面看到的普通参数外，Python还有一种*关键字参数*，指定名称来传参数值。`print()`函数中又一个关键字参数叫`sep`，用来指定多个参数打印输出时之间的分隔字符串。"
   ]
  },
  {
   "cell_type": "code",
   "execution_count": 2,
   "metadata": {},
   "outputs": [
    {
     "name": "stdout",
     "output_type": "stream",
     "text": [
      "1 2 3\n"
     ]
    }
   ],
   "source": [
    "print(1, 2, 3)"
   ]
  },
  {
   "cell_type": "code",
   "execution_count": 4,
   "metadata": {},
   "outputs": [
    {
     "name": "stdout",
     "output_type": "stream",
     "text": [
      "1--2--3\n"
     ]
    }
   ],
   "source": [
    "print(1, 2, 3, sep='--')  # 指定多个输出之间的分隔字符串"
   ]
  },
  {
   "cell_type": "markdown",
   "metadata": {},
   "source": [
    "When non-keyword arguments are used together with keyword arguments, the keyword arguments must come at the end.\n",
    "\n",
    "当非关键字参数和关键字参数一起使用的时候，关键字参数必须出现在后面。"
   ]
  },
  {
   "cell_type": "markdown",
   "metadata": {},
   "source": [
    "## Defining Functions\n",
    "\n",
    "## 定义函数\n",
    "\n",
    "Functions become even more useful when we begin to define our own, organizing functionality to be used in multiple places.\n",
    "In Python, functions are defined with the ``def`` statement.\n",
    "For example, we can encapsulate a version of our Fibonacci sequence code from the previous section as follows:\n",
    "\n",
    "当我们需要定义一个可以多处多次使用的代码段时，我们需要定义一个函数。在Python中，函数使用`def`关键字进行定义。例如，我们可以将上一章中求解斐波那契数列的代码封装成一个函数："
   ]
  },
  {
   "cell_type": "code",
   "execution_count": 5,
   "metadata": {},
   "outputs": [],
   "source": [
    "def fibonacci(N):  # 接收参数N，作为数列的个数\n",
    "    L = []\n",
    "    a, b = 0, 1\n",
    "    while len(L) < N:\n",
    "        a, b = b, a + b\n",
    "        L.append(a)\n",
    "    return L  # 返回数列list"
   ]
  },
  {
   "cell_type": "markdown",
   "metadata": {},
   "source": [
    "Now we have a function named ``fibonacci`` which takes a single argument ``N``, does something with this argument, and ``return``s a value; in this case, a list of the first ``N`` Fibonacci numbers:\n",
    "\n",
    "现在我们有了一个命名为`fibonacci`的函数，接收一个参数`N`，对参数进行处理，并且`返回（return）`一个值；在本例中，是一个包含前`N`个斐波那契数的list。"
   ]
  },
  {
   "cell_type": "code",
   "execution_count": 6,
   "metadata": {},
   "outputs": [
    {
     "data": {
      "text/plain": [
       "[1, 1, 2, 3, 5, 8, 13, 21, 34, 55]"
      ]
     },
     "execution_count": 6,
     "metadata": {},
     "output_type": "execute_result"
    }
   ],
   "source": [
    "fibonacci(10)  # 调用函数获得前10个斐波那契数"
   ]
  },
  {
   "cell_type": "markdown",
   "metadata": {},
   "source": [
    "If you're familiar with strongly-typed languages like ``C``, you'll immediately notice that there is no type information associated with the function inputs or outputs.\n",
    "Python functions can return any Python object, simple or compound, which means constructs that may be difficult in other languages are straightforward in Python.\n",
    "\n",
    "如果你对于静态类型语言如`C`比较熟悉，你会发现Python的函数的参数和返回值都不带类型信息。Python的函数可以返回任何的Python对象，从简单的标准类型到复杂的对象都可以，因此Python的函数定义通常比静态语言的简单和直接。\n",
    "\n",
    "For example, multiple return values are simply put in a tuple, which is indicated by commas:\n",
    "\n",
    "例如，Python可以使用tuple元组返回多个值，只需要简单的使用逗号分割多个返回值即可："
   ]
  },
  {
   "cell_type": "code",
   "execution_count": 7,
   "metadata": {},
   "outputs": [
    {
     "name": "stdout",
     "output_type": "stream",
     "text": [
      "3.0 4.0 (3-4j)\n"
     ]
    }
   ],
   "source": [
    "def real_imag_conj(val):\n",
    "    return val.real, val.imag, val.conjugate()  # 返回复数的实部，虚部，共轭\n",
    "\n",
    "r, i, c = real_imag_conj(3 + 4j)\n",
    "print(r, i, c)"
   ]
  },
  {
   "cell_type": "markdown",
   "metadata": {},
   "source": [
    "## Default Argument Values\n",
    "\n",
    "## 默认参数值\n",
    "\n",
    "Often when defining a function, there are certain values that we want the function to use *most* of the time, but we'd also like to give the user some flexibility.\n",
    "In this case, we can use *default values* for arguments.\n",
    "Consider the ``fibonacci`` function from before.\n",
    "What if we would like the user to be able to play with the starting values?\n",
    "We could do that as follows:\n",
    "\n",
    "通常在定义一个函数的时候，我们都会发现函数的某些参数在*大多数时候*都会使用一些特定的值，但是我们又不能固定这些参数值以便于提供给用户一些灵活性。在这种情况下，我们可以使用参数的*默认值*。如上述的斐波那契数列函数中，如果我们希望用户能够提供数列的起始值的话，可以采用如下的方式："
   ]
  },
  {
   "cell_type": "code",
   "execution_count": 8,
   "metadata": {},
   "outputs": [],
   "source": [
    "def fibonacci(N, a=0, b=1):  # a和b的数值可以由用户指定，如未指定，则使用0和1\n",
    "    L = []\n",
    "    while len(L) < N:\n",
    "        a, b = b, a + b\n",
    "        L.append(a)\n",
    "    return L"
   ]
  },
  {
   "cell_type": "markdown",
   "metadata": {},
   "source": [
    "With a single argument, the result of the function call is identical to before:\n",
    "\n",
    "使用一个参数调用函数时，使用方法和前面一样："
   ]
  },
  {
   "cell_type": "code",
   "execution_count": 9,
   "metadata": {},
   "outputs": [
    {
     "data": {
      "text/plain": [
       "[1, 1, 2, 3, 5, 8, 13, 21, 34, 55]"
      ]
     },
     "execution_count": 9,
     "metadata": {},
     "output_type": "execute_result"
    }
   ],
   "source": [
    "fibonacci(10)"
   ]
  },
  {
   "cell_type": "markdown",
   "metadata": {},
   "source": [
    "But now we can use the function to explore new things, such as the effect of new starting values:\n",
    "\n",
    "现在我们使用起始值对函数进行调用："
   ]
  },
  {
   "cell_type": "code",
   "execution_count": 10,
   "metadata": {},
   "outputs": [
    {
     "data": {
      "text/plain": [
       "[2, 2, 4, 6, 10, 16, 26, 42, 68, 110]"
      ]
     },
     "execution_count": 10,
     "metadata": {},
     "output_type": "execute_result"
    }
   ],
   "source": [
    "fibonacci(10, 0, 2)"
   ]
  },
  {
   "cell_type": "markdown",
   "metadata": {},
   "source": [
    "The values can also be specified by name if desired, in which case the order of the named values does not matter:\n",
    "\n",
    "我们也可以使用参数名称指定参数调用值，在这种情况下，参数的顺序不重要："
   ]
  },
  {
   "cell_type": "code",
   "execution_count": 11,
   "metadata": {},
   "outputs": [
    {
     "data": {
      "text/plain": [
       "[3, 4, 7, 11, 18, 29, 47, 76, 123, 199]"
      ]
     },
     "execution_count": 11,
     "metadata": {},
     "output_type": "execute_result"
    }
   ],
   "source": [
    "fibonacci(10, b=3, a=1)"
   ]
  },
  {
   "cell_type": "markdown",
   "metadata": {},
   "source": [
    "## ``*args`` and ``**kwargs``: Flexible Arguments\n",
    "\n",
    "## `*args` 和 `**kwargs` 可变参数\n",
    "\n",
    "Sometimes you might wish to write a function in which you don't initially know how many arguments the user will pass.\n",
    "In this case, you can use the special form ``*args`` and ``**kwargs`` to catch all arguments that are passed.\n",
    "Here is an example:\n",
    "\n",
    "有的情况下，你无法预先知道参数的个数，也有可能希望提供更大的灵活性给调用者。在这种情况下，你可以使用特殊的`*args`和`**kwargs`语法来获取所有传递的参数。例如："
   ]
  },
  {
   "cell_type": "code",
   "execution_count": 12,
   "metadata": {},
   "outputs": [],
   "source": [
    "def catch_all(*args, **kwargs):  # 提供可变个数参数args和可变关键字参数kwargs给调用者\n",
    "    print(\"args =\", args)\n",
    "    print(\"kwargs = \", kwargs)"
   ]
  },
  {
   "cell_type": "code",
   "execution_count": 13,
   "metadata": {},
   "outputs": [
    {
     "name": "stdout",
     "output_type": "stream",
     "text": [
      "args = (1, 2, 3)\n",
      "kwargs =  {'a': 4, 'b': 5}\n"
     ]
    }
   ],
   "source": [
    "catch_all(1, 2, 3, a=4, b=5)  # args将是一个tuple (1,2,3)，kwargs将是一个dict {'a': 4, 'b': 5}"
   ]
  },
  {
   "cell_type": "code",
   "execution_count": 14,
   "metadata": {},
   "outputs": [
    {
     "name": "stdout",
     "output_type": "stream",
     "text": [
      "args = ('a',)\n",
      "kwargs =  {'keyword': 2}\n"
     ]
    }
   ],
   "source": [
    "catch_all('a', keyword=2)  # args将是一个tuple ('a',)，kwargs将是一个dict {'keyword': 2} "
   ]
  },
  {
   "cell_type": "markdown",
   "metadata": {},
   "source": [
    "Here it is not the names ``args`` and ``kwargs`` that are important, but the ``*`` characters preceding them.\n",
    "``args`` and ``kwargs`` are just the variable names often used by convention, short for \"arguments\" and \"keyword arguments\".\n",
    "The operative difference is the asterisk characters: a single ``*`` before a variable means \"expand this as a sequence\", while a double ``**`` before a variable means \"expand this as a dictionary\".\n",
    "In fact, this syntax can be used not only with the function definition, but with the function call as well!\n",
    "\n",
    "在本例中，`args`和`kwargs`名称并不重要，这两个只是两个普通的变量名称，反而是它们前面的`*`才是值得我们注意的地方。`args`和`kwargs`只是一种命名惯例，代表着\"多个参数\"和\"关键字参数\"。这两种参数和普通参数的区别主要是前缀`*`，单个`*`意味着\"将这个参数扩展为一个序列\"，两个`**`意味着\"将这个参数扩展为字典\"。事实上，这种语法不止用于定义函数，也用于调用函数。"
   ]
  },
  {
   "cell_type": "code",
   "execution_count": 15,
   "metadata": {},
   "outputs": [
    {
     "name": "stdout",
     "output_type": "stream",
     "text": [
      "args = (1, 2, 3)\n",
      "kwargs =  {'pi': 3.14}\n"
     ]
    }
   ],
   "source": [
    "inputs = (1, 2, 3)  # inputs是一个tuple\n",
    "keywords = {'pi': 3.14}  # keywords是一个dict\n",
    "\n",
    "catch_all(*inputs, **keywords)  # 将inputs和keywords扩展进行函数调用"
   ]
  },
  {
   "cell_type": "markdown",
   "metadata": {},
   "source": [
    "## Anonymous (``lambda``) Functions\n",
    "\n",
    "## 匿名 `lambda` 函数\n",
    "\n",
    "Earlier we quickly covered the most common way of defining functions, the ``def`` statement.\n",
    "You'll likely come across another way of defining short, one-off functions with the ``lambda`` statement.\n",
    "It looks something like this:\n",
    "\n",
    "前面我们很快的介绍了使用`def`语法定义函数的方法。现在我们来看一下另外一种简短的、一次性的函数，`lambda`语法定义。它看起来就像下面的例子："
   ]
  },
  {
   "cell_type": "code",
   "execution_count": 16,
   "metadata": {},
   "outputs": [
    {
     "data": {
      "text/plain": [
       "3"
      ]
     },
     "execution_count": 16,
     "metadata": {},
     "output_type": "execute_result"
    }
   ],
   "source": [
    "add = lambda x, y: x + y  # 一个函数，接收参数x和y，返回x+y的和\n",
    "add(1, 2)"
   ]
  },
  {
   "cell_type": "markdown",
   "metadata": {},
   "source": [
    "This lambda function is roughly equivalent to\n",
    "\n",
    "上述匿名函数基本上等同于"
   ]
  },
  {
   "cell_type": "code",
   "execution_count": 17,
   "metadata": {},
   "outputs": [],
   "source": [
    "def add(x, y):\n",
    "    return x + y"
   ]
  },
  {
   "cell_type": "markdown",
   "metadata": {},
   "source": [
    "So why would you ever want to use such a thing?\n",
    "Primarily, it comes down to the fact that *everything is an object* in Python, even functions themselves!\n",
    "That means that functions can be passed as arguments to functions.\n",
    "\n",
    "既然如此，为什么我们需要匿名函数呢？最主要的原因，我们已经阐述过，Python的原则是*所有事物都是对象*，甚至函数本身也是对象。这意味着函数也能作为参数值传递给另一个函数。\n",
    "\n",
    "As an example of this, suppose we have some data stored in a list of dictionaries:\n",
    "\n",
    "举一例子来说明，假设我们有如下的一个字典的列表数据："
   ]
  },
  {
   "cell_type": "code",
   "execution_count": 18,
   "metadata": {},
   "outputs": [],
   "source": [
    "data = [{'first':'Guido', 'last':'Van Rossum', 'YOB':1956},\n",
    "        {'first':'Grace', 'last':'Hopper',     'YOB':1906},\n",
    "        {'first':'Alan',  'last':'Turing',     'YOB':1912}]"
   ]
  },
  {
   "cell_type": "markdown",
   "metadata": {},
   "source": [
    "Now suppose we want to sort this data.\n",
    "Python has a ``sorted`` function that does this:\n",
    "\n",
    "现在我们需要对这些数据进行排序。Python內建了一个`sorted`函数完成这件工作："
   ]
  },
  {
   "cell_type": "code",
   "execution_count": 19,
   "metadata": {},
   "outputs": [
    {
     "data": {
      "text/plain": [
       "[1, 2, 3, 4, 5, 6]"
      ]
     },
     "execution_count": 19,
     "metadata": {},
     "output_type": "execute_result"
    }
   ],
   "source": [
    "sorted([2,4,3,5,1,6])"
   ]
  },
  {
   "cell_type": "markdown",
   "metadata": {},
   "source": [
    "But dictionaries are not orderable: we need a way to tell the function *how* to sort our data.\n",
    "We can do this by specifying the ``key`` function, a function which given an item returns the sorting key for that item:\n",
    "\n",
    "但是字典是不具备自然序的：我们需要一个方法来告诉`sorted`函数*如何*排列我们的数据。我们可以通过设置`key`函数来完成这项任务，`key`是一个函数用来返回字典中的一个值（具备自然序）让`sorted`函数完成排序工作。"
   ]
  },
  {
   "cell_type": "code",
   "execution_count": 20,
   "metadata": {},
   "outputs": [
    {
     "data": {
      "text/plain": [
       "[{'first': 'Alan', 'last': 'Turing', 'YOB': 1912},\n",
       " {'first': 'Grace', 'last': 'Hopper', 'YOB': 1906},\n",
       " {'first': 'Guido', 'last': 'Van Rossum', 'YOB': 1956}]"
      ]
     },
     "execution_count": 20,
     "metadata": {},
     "output_type": "execute_result"
    }
   ],
   "source": [
    "# 使用数据的名字 first 进行排序\n",
    "sorted(data, key=lambda item: item['first'])"
   ]
  },
  {
   "cell_type": "code",
   "execution_count": 21,
   "metadata": {},
   "outputs": [
    {
     "data": {
      "text/plain": [
       "[{'first': 'Grace', 'last': 'Hopper', 'YOB': 1906},\n",
       " {'first': 'Alan', 'last': 'Turing', 'YOB': 1912},\n",
       " {'first': 'Guido', 'last': 'Van Rossum', 'YOB': 1956}]"
      ]
     },
     "execution_count": 21,
     "metadata": {},
     "output_type": "execute_result"
    }
   ],
   "source": [
    "# 使用数据的出生年份进行排序\n",
    "sorted(data, key=lambda item: item['YOB'])"
   ]
  },
  {
   "cell_type": "markdown",
   "metadata": {},
   "source": [
    "While these key functions could certainly be created by the normal, ``def`` syntax, the ``lambda`` syntax is convenient for such short one-off functions like these.\n",
    "\n",
    "当然，上述的`key`函数也可以通过`def`创建普通函数来完成，但是在这种情况下，显然`lambda`语法更加精简，也使得程序更容易读。"
   ]
  }
 ],
 "metadata": {
  "anaconda-cloud": {},
  "kernelspec": {
   "display_name": "Python 3",
   "language": "python",
   "name": "python3"
  },
  "language_info": {
   "codemirror_mode": {
    "name": "ipython",
    "version": 3
   },
   "file_extension": ".py",
   "mimetype": "text/x-python",
   "name": "python",
   "nbconvert_exporter": "python",
   "pygments_lexer": "ipython3",
   "version": "3.7.3"
  }
 },
 "nbformat": 4,
 "nbformat_minor": 1
}
