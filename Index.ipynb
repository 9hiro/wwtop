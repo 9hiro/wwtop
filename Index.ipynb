{
 "cells": [
  {
   "cell_type": "markdown",
   "metadata": {},
   "source": [
    "# A Whirlwind Tour of Python\n",
    "# Python旋风之旅\n",
    "*Jake VanderPlas, Summer 2016*\n",
    "\n",
    "These are the Jupyter Notebooks behind my O'Reilly report,\n",
    "*A Whirlwind Tour of Python*.\n",
    "\n",
    "*A Whirlwind Tour of Python* is a fast-paced introduction to essential\n",
    "components of the Python language for researchers and developers who are\n",
    "already familiar with programming in another language.\n",
    "\n",
    "The material is particularly aimed at those who wish to use Python for data \n",
    "science and/or scientific programming, and in this capacity serves as an\n",
    "introduction to my upcoming book, *The Python Data Science Handbook*.\n",
    "These notebooks are adapted from lectures and workshops I've given on these\n",
    "topics at University of Washington and at various conferences, meetings, and\n",
    "workshops around the world.\n",
    "\n",
    "该文根据Jake VanderPlas 2016年新书《Python旋风之旅》（O'Reilly出版）的Jupyter Notebooks翻译。\n",
    "\n",
    "*《Python旋风之旅》* 本书是一本关于Python语言的快速入门书籍，适用于已有其他编程语言基础的读者。\n",
    "\n",
    "本书目标读者为有志于使用Python进行数据科学或科学计算领域编程的人群，此书将作为作者即将出版的\n",
    "书籍*《Python数据科学手册》*的前导读物。这些Jupyter Notebooks是基于作者在华盛顿大学及其他世界\n",
    "的讲座、论坛、学会资料汇编而成。"
   ]
  },
  {
   "cell_type": "markdown",
   "metadata": {},
   "source": [
    "## Index\n",
    "## 目录\n",
    "\n",
    "1. [Introduction](00-Introduction.ipynb)\n",
    "2. [How to Run Python Code](01-How-to-Run-Python-Code.ipynb)\n",
    "3. [Basic Python Syntax](02-Basic-Python-Syntax.ipynb)\n",
    "4. [Python Semantics: Variables](03-Semantics-Variables.ipynb)\n",
    "5. [Python Semantics: Operators](04-Semantics-Operators.ipynb)\n",
    "6. [Built-In Scalar Types](05-Built-in-Scalar-Types.ipynb)\n",
    "7. [Built-In Data Structures](06-Built-in-Data-Structures.ipynb)\n",
    "8. [Control Flow Statements](07-Control-Flow-Statements.ipynb)\n",
    "9. [Defining Functions](08-Defining-Functions.ipynb)\n",
    "10. [Errors and Exceptions](09-Errors-and-Exceptions.ipynb)\n",
    "11. [Iterators](10-Iterators.ipynb)\n",
    "12. [List Comprehensions](11-List-Comprehensions.ipynb)\n",
    "13. [Generators and Generator Expressions](12-Generators.ipynb)\n",
    "14. [Modules and Packages](13-Modules-and-Packages.ipynb)\n",
    "15. [Strings and Regular Expressions](14-Strings-and-Regular-Expressions.ipynb)\n",
    "16. [Preview of Data Science Tools](15-Preview-of-Data-Science-Tools.ipynb)\n",
    "17. [Resources for Further Learning](16-Further-Resources.ipynb)\n",
    "18. [Appendix: Code To Reproduce Figures](17-Figures.ipynb)\n",
    "\n",
    "1. [序言](00-Introduction.ipynb)\n",
    "2. [如何运行Python代码](01-How-to-Run-Python-Code.ipynb)\n",
    "3. [基本语法](02-Basic-Python-Syntax.ipynb)\n",
    "4. [Python语法: 变量](03-Semantics-Variables.ipynb)\n",
    "5. [Python语法: 操作符](04-Semantics-Operators.ipynb)\n",
    "6. [内建标量类型](05-Built-in-Scalar-Types.ipynb)\n",
    "7. [内建数据结构](06-Built-in-Data-Structures.ipynb)\n",
    "8. [流程控制](07-Control-Flow-Statements.ipynb)\n",
    "9. [定义函数](08-Defining-Functions.ipynb)\n",
    "10. [错误和异常](09-Errors-and-Exceptions.ipynb)\n",
    "11. [枚举](10-Iterators.ipynb)\n",
    "12. [列表](11-List-Comprehensions.ipynb)\n",
    "13. [发生器和发生器表达式](12-Generators.ipynb)\n",
    "14. [模块和程序包](13-Modules-and-Packages.ipynb)\n",
    "15. [字符创和正则表达式](14-Strings-and-Regular-Expressions.ipynb)\n",
    "16. [数据科学工具前瞻](15-Preview-of-Data-Science-Tools.ipynb)\n",
    "17. [后续学习资源](16-Further-Resources.ipynb)\n",
    "18. [附录: 生成图表的代码](17-Figures.ipynb)"
   ]
  },
  {
   "cell_type": "markdown",
   "metadata": {},
   "source": [
    "## License\n",
    "## 协议\n",
    "\n",
    "This material is released under the \"No Rights Reserved\" [CC0](LICENSE)\n",
    "license, and thus you are free to re-use, modify, build-on, and enhance\n",
    "this material for any purpose.\n",
    "\n",
    "That said, I request that if you use or adapt this material, that you include\n",
    "a proper attribution and/or citation (citation information coming soon).\n",
    "\n",
    "Read more about CC0 [here](https://creativecommons.org/share-your-work/public-domain/cc0/).\n",
    "\n",
    "不翻了，自由使用吧，翻译版遵循原作者原则。"
   ]
  }
 ],
 "metadata": {
  "kernelspec": {
   "display_name": "Python 2",
   "language": "python",
   "name": "python2"
  },
  "language_info": {
   "codemirror_mode": {
    "name": "ipython",
    "version": 2
   },
   "file_extension": ".py",
   "mimetype": "text/x-python",
   "name": "python",
   "nbconvert_exporter": "python",
   "pygments_lexer": "ipython2",
   "version": "2.7.9"
  }
 },
 "nbformat": 4,
 "nbformat_minor": 0
}
